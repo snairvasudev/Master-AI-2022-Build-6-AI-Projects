{
 "cells": [
  {
   "cell_type": "markdown",
   "id": "175ed11a",
   "metadata": {},
   "source": [
    "# Introduction to Stacks and Queues"
   ]
  },
  {
   "cell_type": "code",
   "execution_count": 1,
   "id": "dbe527ef",
   "metadata": {},
   "outputs": [],
   "source": [
    "#Stacks follow the LIFO or Last-In-First-Out principle\n",
    "#Queues follow the FIFO or First-In-First-Out principle"
   ]
  },
  {
   "cell_type": "markdown",
   "id": "c02478e9",
   "metadata": {},
   "source": [
    "## Implementing Stacks and Queues using Lists"
   ]
  },
  {
   "cell_type": "markdown",
   "id": "27d5a14e",
   "metadata": {},
   "source": [
    "### Implementing Stacks using Lists "
   ]
  },
  {
   "cell_type": "code",
   "execution_count": 2,
   "id": "d5b53c60",
   "metadata": {},
   "outputs": [],
   "source": [
    "#Empty List\n",
    "Letters = []"
   ]
  },
  {
   "cell_type": "code",
   "execution_count": 3,
   "id": "bf61fc41",
   "metadata": {},
   "outputs": [
    {
     "data": {
      "text/plain": [
       "['a', 'e', 'f', 'h']"
      ]
     },
     "execution_count": 3,
     "metadata": {},
     "output_type": "execute_result"
    }
   ],
   "source": [
    "#Adding Elements\n",
    "#Push Operation\n",
    "\n",
    "Letters.append('a')\n",
    "Letters.append('e')\n",
    "Letters.append('f')\n",
    "Letters.append('h')\n",
    "\n",
    "Letters"
   ]
  },
  {
   "cell_type": "code",
   "execution_count": 4,
   "id": "24711e02",
   "metadata": {},
   "outputs": [
    {
     "data": {
      "text/plain": [
       "['a', 'e', 'f']"
      ]
     },
     "execution_count": 4,
     "metadata": {},
     "output_type": "execute_result"
    }
   ],
   "source": [
    "#Removing Elements\n",
    "#Pop Operation\n",
    "\n",
    "Letters.pop()\n",
    "Letters"
   ]
  },
  {
   "cell_type": "code",
   "execution_count": 5,
   "id": "b58d5519",
   "metadata": {},
   "outputs": [
    {
     "data": {
      "text/plain": [
       "['a', 'e']"
      ]
     },
     "execution_count": 5,
     "metadata": {},
     "output_type": "execute_result"
    }
   ],
   "source": [
    "Letters.pop()\n",
    "Letters"
   ]
  },
  {
   "cell_type": "markdown",
   "id": "6f929f56",
   "metadata": {},
   "source": [
    "### Implementing Stacks using Queues"
   ]
  },
  {
   "cell_type": "code",
   "execution_count": 17,
   "id": "82b92333",
   "metadata": {},
   "outputs": [],
   "source": [
    "#Empty List\n",
    "Fruits = []"
   ]
  },
  {
   "cell_type": "code",
   "execution_count": 18,
   "id": "9106ed0a",
   "metadata": {},
   "outputs": [
    {
     "data": {
      "text/plain": [
       "['mango', 'banana', 'guava', 'apple']"
      ]
     },
     "execution_count": 18,
     "metadata": {},
     "output_type": "execute_result"
    }
   ],
   "source": [
    "#Adding items\n",
    "#enqueue operation\n",
    "\n",
    "Fruits.append('mango')\n",
    "Fruits.append('banana')\n",
    "Fruits.append('guava')\n",
    "Fruits.append('apple')\n",
    "Fruits"
   ]
  },
  {
   "cell_type": "code",
   "execution_count": 19,
   "id": "fadf08a4",
   "metadata": {},
   "outputs": [
    {
     "data": {
      "text/plain": [
       "'mango'"
      ]
     },
     "execution_count": 19,
     "metadata": {},
     "output_type": "execute_result"
    }
   ],
   "source": [
    "#Removing items\n",
    "#dequeue operation\n",
    "Fruits.pop(0)"
   ]
  },
  {
   "cell_type": "code",
   "execution_count": 20,
   "id": "4caeb9aa",
   "metadata": {},
   "outputs": [
    {
     "data": {
      "text/plain": [
       "['banana', 'guava', 'apple']"
      ]
     },
     "execution_count": 20,
     "metadata": {},
     "output_type": "execute_result"
    }
   ],
   "source": [
    "Fruits"
   ]
  },
  {
   "cell_type": "code",
   "execution_count": 21,
   "id": "5ce9255e",
   "metadata": {},
   "outputs": [
    {
     "data": {
      "text/plain": [
       "'banana'"
      ]
     },
     "execution_count": 21,
     "metadata": {},
     "output_type": "execute_result"
    }
   ],
   "source": [
    "Fruits.pop(0)"
   ]
  },
  {
   "cell_type": "code",
   "execution_count": 22,
   "id": "4dd24c18",
   "metadata": {},
   "outputs": [
    {
     "data": {
      "text/plain": [
       "['guava', 'apple']"
      ]
     },
     "execution_count": 22,
     "metadata": {},
     "output_type": "execute_result"
    }
   ],
   "source": [
    "Fruits"
   ]
  },
  {
   "cell_type": "markdown",
   "id": "993d1e9b",
   "metadata": {},
   "source": [
    "## Implementing Stacks and Queues using Deque"
   ]
  },
  {
   "cell_type": "code",
   "execution_count": 23,
   "id": "0be6d316",
   "metadata": {},
   "outputs": [],
   "source": [
    "#Deque is short for Double-Ended-Queue"
   ]
  },
  {
   "cell_type": "markdown",
   "id": "b3e6551c",
   "metadata": {},
   "source": [
    "### Implementing Stacks using Deque"
   ]
  },
  {
   "cell_type": "code",
   "execution_count": 24,
   "id": "54f3127e",
   "metadata": {},
   "outputs": [],
   "source": [
    "#importing deque\n",
    "from collections import deque"
   ]
  },
  {
   "cell_type": "code",
   "execution_count": 26,
   "id": "07691409",
   "metadata": {},
   "outputs": [],
   "source": [
    "#initialising\n",
    "numbers = deque()"
   ]
  },
  {
   "cell_type": "code",
   "execution_count": 27,
   "id": "5a5401ee",
   "metadata": {},
   "outputs": [
    {
     "data": {
      "text/plain": [
       "deque([23, 45, 12, 54])"
      ]
     },
     "execution_count": 27,
     "metadata": {},
     "output_type": "execute_result"
    }
   ],
   "source": [
    "#Adding items\n",
    "#push\n",
    "\n",
    "numbers.append(23)\n",
    "numbers.append(45)\n",
    "numbers.append(12)\n",
    "numbers.append(54)\n",
    "numbers"
   ]
  },
  {
   "cell_type": "code",
   "execution_count": 28,
   "id": "18db4d46",
   "metadata": {},
   "outputs": [
    {
     "data": {
      "text/plain": [
       "54"
      ]
     },
     "execution_count": 28,
     "metadata": {},
     "output_type": "execute_result"
    }
   ],
   "source": [
    "#removing items\n",
    "#Pop\n",
    "numbers.pop()"
   ]
  },
  {
   "cell_type": "code",
   "execution_count": 29,
   "id": "0205ab7b",
   "metadata": {},
   "outputs": [
    {
     "data": {
      "text/plain": [
       "12"
      ]
     },
     "execution_count": 29,
     "metadata": {},
     "output_type": "execute_result"
    }
   ],
   "source": [
    "numbers.pop()"
   ]
  },
  {
   "cell_type": "markdown",
   "id": "4075d481",
   "metadata": {},
   "source": [
    "### Implementing Queues using Deque"
   ]
  },
  {
   "cell_type": "code",
   "execution_count": 30,
   "id": "b534709b",
   "metadata": {},
   "outputs": [],
   "source": [
    "#initialising\n",
    "names =deque()"
   ]
  },
  {
   "cell_type": "code",
   "execution_count": 31,
   "id": "effd0bbb",
   "metadata": {},
   "outputs": [
    {
     "data": {
      "text/plain": [
       "deque(['Radhika', 'Shyam', 'Ravi', 'Shivani'])"
      ]
     },
     "execution_count": 31,
     "metadata": {},
     "output_type": "execute_result"
    }
   ],
   "source": [
    "#Adding items\n",
    "#Enqueue\n",
    "\n",
    "names.append(\"Radhika\")\n",
    "names.append(\"Shyam\")\n",
    "names.append(\"Ravi\")\n",
    "names.append(\"Shivani\")\n",
    "names"
   ]
  },
  {
   "cell_type": "code",
   "execution_count": 32,
   "id": "bb1e3699",
   "metadata": {},
   "outputs": [
    {
     "data": {
      "text/plain": [
       "'Radhika'"
      ]
     },
     "execution_count": 32,
     "metadata": {},
     "output_type": "execute_result"
    }
   ],
   "source": [
    "#Removing items\n",
    "#dequeue\n",
    "\n",
    "names.popleft()"
   ]
  },
  {
   "cell_type": "code",
   "execution_count": 33,
   "id": "d422de81",
   "metadata": {},
   "outputs": [
    {
     "data": {
      "text/plain": [
       "'Shyam'"
      ]
     },
     "execution_count": 33,
     "metadata": {},
     "output_type": "execute_result"
    }
   ],
   "source": [
    "names.popleft()"
   ]
  }
 ],
 "metadata": {
  "kernelspec": {
   "display_name": "Python 3 (ipykernel)",
   "language": "python",
   "name": "python3"
  },
  "language_info": {
   "codemirror_mode": {
    "name": "ipython",
    "version": 3
   },
   "file_extension": ".py",
   "mimetype": "text/x-python",
   "name": "python",
   "nbconvert_exporter": "python",
   "pygments_lexer": "ipython3",
   "version": "3.8.8"
  }
 },
 "nbformat": 4,
 "nbformat_minor": 5
}
